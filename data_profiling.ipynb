{
 "cells": [
  {
   "cell_type": "markdown",
   "metadata": {},
   "source": [
    "Import require packages and data"
   ]
  },
  {
   "cell_type": "code",
   "execution_count": 4,
   "metadata": {},
   "outputs": [],
   "source": [
    "import pandas as pd\n",
    "from pandas_profiling import ProfileReport\n",
    "\n",
    "# Import the two data source to a DataFrame\n",
    "event_data = pd.read_csv(\"pageview_data.csv\")\n",
    "marketing_data = pd.read_csv(\"marketing_channel_timeseries.csv\")"
   ]
  },
  {
   "cell_type": "markdown",
   "metadata": {},
   "source": [
    "Create a profile of the data to explore data"
   ]
  },
  {
   "cell_type": "code",
   "execution_count": 9,
   "metadata": {},
   "outputs": [
    {
     "name": "stderr",
     "output_type": "stream",
     "text": [
      "Summarize dataset:   0%|          | 0/5 [00:00<?, ?it/s]/home/adamw/miniconda3/envs/ecom_analysis/lib/python3.8/site-packages/multimethod/__init__.py:315: FutureWarning: iteritems is deprecated and will be removed in a future version. Use .items instead.\n",
      "  return func(*args, **kwargs)\n",
      "Summarize dataset:  42%|████▏     | 8/19 [00:00<00:01, 10.66it/s, Calculate auto correlation]                  /home/adamw/miniconda3/envs/ecom_analysis/lib/python3.8/site-packages/multimethod/__init__.py:315: FutureWarning: In a future version, `df.iloc[:, i] = newvals` will attempt to set the values inplace instead of always setting a new array. To retain the old behavior, use either `df[df.columns[i]] = newvals` or, if columns are non-unique, `df.isetitem(i, newvals)`\n",
      "  return func(*args, **kwargs)\n",
      "Summarize dataset:  47%|████▋     | 9/19 [00:00<00:00, 10.66it/s, Calculate spearman correlation]/home/adamw/miniconda3/envs/ecom_analysis/lib/python3.8/site-packages/multimethod/__init__.py:315: FutureWarning: The default value of numeric_only in DataFrame.corr is deprecated. In a future version, it will default to False. Select only valid columns or specify the value of numeric_only to silence this warning.\n",
      "  return func(*args, **kwargs)\n",
      "Summarize dataset: 100%|██████████| 47/47 [00:05<00:00,  8.41it/s, Completed]                                                     \n",
      "Generate report structure: 100%|██████████| 1/1 [00:01<00:00,  1.50s/it]\n",
      "Render HTML: 100%|██████████| 1/1 [00:00<00:00,  1.63it/s]\n",
      "Export report to file: 100%|██████████| 1/1 [00:00<00:00, 145.75it/s]\n",
      "Summarize dataset:   0%|          | 0/5 [00:00<?, ?it/s]/home/adamw/miniconda3/envs/ecom_analysis/lib/python3.8/site-packages/multimethod/__init__.py:315: FutureWarning: iteritems is deprecated and will be removed in a future version. Use .items instead.\n",
      "  return func(*args, **kwargs)\n",
      "Summarize dataset:  42%|████▏     | 8/19 [00:00<00:01,  6.96it/s, Calculate auto correlation]                  /home/adamw/miniconda3/envs/ecom_analysis/lib/python3.8/site-packages/multimethod/__init__.py:315: FutureWarning: In a future version, `df.iloc[:, i] = newvals` will attempt to set the values inplace instead of always setting a new array. To retain the old behavior, use either `df[df.columns[i]] = newvals` or, if columns are non-unique, `df.isetitem(i, newvals)`\n",
      "  return func(*args, **kwargs)\n",
      "Summarize dataset:  47%|████▋     | 9/19 [00:00<00:00, 39.10it/s, Calculate spearman correlation]/home/adamw/miniconda3/envs/ecom_analysis/lib/python3.8/site-packages/multimethod/__init__.py:315: FutureWarning: The default value of numeric_only in DataFrame.corr is deprecated. In a future version, it will default to False. Select only valid columns or specify the value of numeric_only to silence this warning.\n",
      "  return func(*args, **kwargs)\n",
      "Summarize dataset: 100%|██████████| 47/47 [00:02<00:00, 17.04it/s, Completed]                                                     \n",
      "Generate report structure: 100%|██████████| 1/1 [00:01<00:00,  1.54s/it]\n",
      "Render HTML: 100%|██████████| 1/1 [00:00<00:00,  1.71it/s]\n",
      "Export report to file: 100%|██████████| 1/1 [00:00<00:00, 140.20it/s]\n"
     ]
    }
   ],
   "source": [
    "event_profile = ProfileReport(event_data)\n",
    "event_profile.to_file(\"event_profile.html\")\n",
    "marketing_profile = ProfileReport(event_data)\n",
    "marketing_profile.to_file(\"marketing_profile.html\")"
   ]
  }
 ],
 "metadata": {
  "kernelspec": {
   "display_name": "Python 3.8.13 ('ecom_analysis': conda)",
   "language": "python",
   "name": "python3"
  },
  "language_info": {
   "codemirror_mode": {
    "name": "ipython",
    "version": 3
   },
   "file_extension": ".py",
   "mimetype": "text/x-python",
   "name": "python",
   "nbconvert_exporter": "python",
   "pygments_lexer": "ipython3",
   "version": "3.8.13"
  },
  "orig_nbformat": 4,
  "vscode": {
   "interpreter": {
    "hash": "6765ee0be3ddc6a154f4d030ff4c8d4cddda9a3918393fbdb278606b26902718"
   }
  }
 },
 "nbformat": 4,
 "nbformat_minor": 2
}
